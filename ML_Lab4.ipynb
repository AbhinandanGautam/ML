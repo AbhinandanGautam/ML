{
  "nbformat": 4,
  "nbformat_minor": 0,
  "metadata": {
    "colab": {
      "name": "ML_Lab4.ipynb",
      "provenance": [],
      "authorship_tag": "ABX9TyPaIyT9ZAKAD2oKh6VOoVAE",
      "include_colab_link": true
    },
    "kernelspec": {
      "name": "python3",
      "display_name": "Python 3"
    },
    "language_info": {
      "name": "python"
    }
  },
  "cells": [
    {
      "cell_type": "markdown",
      "metadata": {
        "id": "view-in-github",
        "colab_type": "text"
      },
      "source": [
        "<a href=\"https://colab.research.google.com/github/AbhinandanGautam/ML/blob/main/ML_Lab4.ipynb\" target=\"_parent\"><img src=\"https://colab.research.google.com/assets/colab-badge.svg\" alt=\"Open In Colab\"/></a>"
      ]
    },
    {
      "cell_type": "markdown",
      "source": [
        "Loops in Python"
      ],
      "metadata": {
        "id": "Sl37LUglKBlE"
      }
    },
    {
      "cell_type": "code",
      "execution_count": 19,
      "metadata": {
        "colab": {
          "base_uri": "https://localhost:8080/"
        },
        "id": "USKtWrMSJ4vK",
        "outputId": "95fb3bb6-576c-41b3-d1a1-802bc309fec2"
      },
      "outputs": [
        {
          "output_type": "stream",
          "name": "stdout",
          "text": [
            "2 * 1 = 2\n",
            "2 * 2 = 4\n",
            "2 * 3 = 6\n",
            "2 * 4 = 8\n",
            "2 * 5 = 10\n",
            "2 * 6 = 12\n",
            "2 * 7 = 14\n",
            "2 * 8 = 16\n",
            "2 * 9 = 18\n",
            "2 * 10 = 20\n"
          ]
        }
      ],
      "source": [
        "for x in range(1,11):\n",
        "    print(\"2 *\",x,\"=\",2*x)"
      ]
    },
    {
      "cell_type": "code",
      "source": [
        "a = [\"Abhi\", \"nan\", \"dan\"]\n",
        "name = \"\"\n",
        "for i in a:\n",
        "  name += i\n",
        "\n",
        "print(name)"
      ],
      "metadata": {
        "colab": {
          "base_uri": "https://localhost:8080/"
        },
        "id": "Bli9yqMEK3GF",
        "outputId": "ef484543-48f4-4941-9075-358464ce855c"
      },
      "execution_count": 5,
      "outputs": [
        {
          "output_type": "stream",
          "name": "stdout",
          "text": [
            "Abhinandan\n"
          ]
        }
      ]
    },
    {
      "cell_type": "code",
      "source": [
        "a = \"Welcome To NIT Jalandhar\"\n",
        "for i in a:\n",
        "  print(i,end=\"\")"
      ],
      "metadata": {
        "colab": {
          "base_uri": "https://localhost:8080/"
        },
        "id": "8B45MV_OLKS8",
        "outputId": "31004058-96fa-4b6e-c294-c5d8bdcf0719"
      },
      "execution_count": 6,
      "outputs": [
        {
          "output_type": "stream",
          "name": "stdout",
          "text": [
            "Welcome To NIT Jalandhar"
          ]
        }
      ]
    },
    {
      "cell_type": "code",
      "source": [
        "n = 5\n",
        "\n",
        "while n>=0:\n",
        "    print(n, end=' ')\n",
        "    n -= 1"
      ],
      "metadata": {
        "colab": {
          "base_uri": "https://localhost:8080/"
        },
        "id": "zHA61PaWMOGO",
        "outputId": "7bc3905e-e861-4b43-9bbf-91079695c6fc"
      },
      "execution_count": 8,
      "outputs": [
        {
          "output_type": "stream",
          "name": "stdout",
          "text": [
            "5 4 3 2 1 0 "
          ]
        }
      ]
    },
    {
      "cell_type": "markdown",
      "source": [
        "Functions in Python"
      ],
      "metadata": {
        "id": "pvLsdn0vNPVF"
      }
    },
    {
      "cell_type": "code",
      "source": [
        "def greet(name):\n",
        "    print('Good Morning, ',name)\n",
        "\n",
        "greet(input())"
      ],
      "metadata": {
        "colab": {
          "base_uri": "https://localhost:8080/"
        },
        "id": "vAzHgcklNZrU",
        "outputId": "1aa3ddb7-e3d2-458c-b1b2-748f2d92fd0f"
      },
      "execution_count": 14,
      "outputs": [
        {
          "output_type": "stream",
          "name": "stdout",
          "text": [
            "Abhinandan\n",
            "Good Morning,  Abhinandan\n"
          ]
        }
      ]
    },
    {
      "cell_type": "code",
      "source": [
        "def sum_of_list(a):\n",
        "    return sum(a) #sum in built-in function in python\n",
        "\n",
        "m = [1,2,3,4]\n",
        "print(sum_of_list(m))"
      ],
      "metadata": {
        "colab": {
          "base_uri": "https://localhost:8080/"
        },
        "id": "TK-9LGXrNdpc",
        "outputId": "7d322122-de6d-4803-c695-34f3200b4c18"
      },
      "execution_count": 15,
      "outputs": [
        {
          "output_type": "stream",
          "name": "stdout",
          "text": [
            "10\n"
          ]
        }
      ]
    },
    {
      "cell_type": "code",
      "source": [
        "def product_of_list(a):\n",
        "  res = 1\n",
        "  for i in a:\n",
        "    res *= i\n",
        "  return res\n",
        "\n",
        "m = [1,2,3,4]\n",
        "print(product_of_list(m))"
      ],
      "metadata": {
        "colab": {
          "base_uri": "https://localhost:8080/"
        },
        "id": "XJVekE4KNlGl",
        "outputId": "bf396661-bf61-471f-da3b-876b3744bf91"
      },
      "execution_count": 18,
      "outputs": [
        {
          "output_type": "stream",
          "name": "stdout",
          "text": [
            "24\n"
          ]
        }
      ]
    }
  ]
}