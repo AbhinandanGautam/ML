{
  "nbformat": 4,
  "nbformat_minor": 0,
  "metadata": {
    "colab": {
      "name": "ML_Lab6.ipynb",
      "provenance": [],
      "authorship_tag": "ABX9TyM8ZoArr9FcrvHkcFZkIuf0",
      "include_colab_link": true
    },
    "kernelspec": {
      "name": "python3",
      "display_name": "Python 3"
    },
    "language_info": {
      "name": "python"
    }
  },
  "cells": [
    {
      "cell_type": "markdown",
      "metadata": {
        "id": "view-in-github",
        "colab_type": "text"
      },
      "source": [
        "<a href=\"https://colab.research.google.com/github/AbhinandanGautam/ML/blob/main/ML_Lab6.ipynb\" target=\"_parent\"><img src=\"https://colab.research.google.com/assets/colab-badge.svg\" alt=\"Open In Colab\"/></a>"
      ]
    },
    {
      "cell_type": "code",
      "execution_count": 2,
      "metadata": {
        "id": "L7KXQ7x8Q6dE",
        "colab": {
          "base_uri": "https://localhost:8080/"
        },
        "outputId": "62f84fae-612e-495f-b01a-192f09242bf3"
      },
      "outputs": [
        {
          "output_type": "stream",
          "name": "stdout",
          "text": [
            "Hello\n",
            "Myself Abhinandan Gautam\n",
            "Kam Cho\n",
            "Mja ma\n"
          ]
        }
      ],
      "source": [
        "f = open('/content/data.txt', 'r')\n",
        "print(f.read())\n",
        "f.close()"
      ]
    },
    {
      "cell_type": "code",
      "source": [
        "f = open('/content/data.txt', 'r')\n",
        "print(f.readline())\n",
        "f.close()"
      ],
      "metadata": {
        "colab": {
          "base_uri": "https://localhost:8080/"
        },
        "id": "o7WagTQUSf2g",
        "outputId": "7edf20d2-fd47-4883-e27c-edc411400881"
      },
      "execution_count": 5,
      "outputs": [
        {
          "output_type": "stream",
          "name": "stdout",
          "text": [
            "Hello\n",
            "\n"
          ]
        }
      ]
    },
    {
      "cell_type": "code",
      "source": [
        "f = open('/content/data.txt', 'r')\n",
        "f.seek(15)\n",
        "print(f.read())\n",
        "f.close()"
      ],
      "metadata": {
        "colab": {
          "base_uri": "https://localhost:8080/"
        },
        "id": "26LzDUdISn-1",
        "outputId": "c6051b1b-ddb3-482d-9709-046212fe61f2"
      },
      "execution_count": 7,
      "outputs": [
        {
          "output_type": "stream",
          "name": "stdout",
          "text": [
            "bhinandan Gautam\n",
            "Kam Cho\n",
            "Mja ma\n"
          ]
        }
      ]
    },
    {
      "cell_type": "code",
      "source": [
        "with open('/content/data.txt', 'r') as f:\n",
        "  for line in f:\n",
        "    print(line, end='')"
      ],
      "metadata": {
        "colab": {
          "base_uri": "https://localhost:8080/"
        },
        "id": "-mEIgxZaR4OI",
        "outputId": "0a989623-00a4-4ee3-ecc0-aa427852ea11"
      },
      "execution_count": 4,
      "outputs": [
        {
          "output_type": "stream",
          "name": "stdout",
          "text": [
            "Hello\n",
            "Myself Abhinandan Gautam\n",
            "Kam Cho\n",
            "Mja ma"
          ]
        }
      ]
    },
    {
      "cell_type": "code",
      "source": [
        "f = open('/content/data.txt', 'a')\n",
        "f.write('Sab mja ma')\n",
        "f.close()\n",
        "\n",
        "f = open('/content/data.txt', 'r')\n",
        "print(f.read())\n",
        "f.close()"
      ],
      "metadata": {
        "colab": {
          "base_uri": "https://localhost:8080/"
        },
        "id": "94i7pmjiSWY-",
        "outputId": "a91c670c-2ad2-4fb8-9670-bed8e87de70f"
      },
      "execution_count": 10,
      "outputs": [
        {
          "output_type": "stream",
          "name": "stdout",
          "text": [
            "Hello\n",
            "Myself Abhinandan Gautam\n",
            "Kam Cho\n",
            "Mja maSab mja ma\n"
          ]
        }
      ]
    },
    {
      "cell_type": "code",
      "source": [
        "f = open(\"myfile.txt\", \"x\")"
      ],
      "metadata": {
        "id": "YchpjvBPTfcg"
      },
      "execution_count": 11,
      "outputs": []
    },
    {
      "cell_type": "code",
      "source": [
        "f = open('myfile.txt', 'w')\n",
        "f.write('Mai hu na')\n",
        "f.close()\n",
        "\n",
        "f = open(\"myfile.txt\", \"r\")\n",
        "print(f.read())\n",
        "f.close()"
      ],
      "metadata": {
        "colab": {
          "base_uri": "https://localhost:8080/"
        },
        "id": "vVrq_tLfToAN",
        "outputId": "a3d90972-8b38-4474-a9a5-77717b41e3d9"
      },
      "execution_count": 12,
      "outputs": [
        {
          "output_type": "stream",
          "name": "stdout",
          "text": [
            "Mai hu na\n"
          ]
        }
      ]
    },
    {
      "cell_type": "code",
      "source": [
        "f = open(\"demofile.txt\", \"x\")"
      ],
      "metadata": {
        "id": "ZqcC3oLFUG8e"
      },
      "execution_count": 13,
      "outputs": []
    },
    {
      "cell_type": "code",
      "source": [
        "import os\n",
        "os.remove('demofile.txt')"
      ],
      "metadata": {
        "id": "cZnbBObGULxv"
      },
      "execution_count": 14,
      "outputs": []
    }
  ]
}