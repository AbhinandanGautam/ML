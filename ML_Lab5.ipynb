{
  "nbformat": 4,
  "nbformat_minor": 0,
  "metadata": {
    "colab": {
      "name": "ML_Lab5.ipynb",
      "provenance": [],
      "authorship_tag": "ABX9TyOa0kkwxCEwmYRxQHTs6bHF",
      "include_colab_link": true
    },
    "kernelspec": {
      "name": "python3",
      "display_name": "Python 3"
    },
    "language_info": {
      "name": "python"
    }
  },
  "cells": [
    {
      "cell_type": "markdown",
      "metadata": {
        "id": "view-in-github",
        "colab_type": "text"
      },
      "source": [
        "<a href=\"https://colab.research.google.com/github/AbhinandanGautam/ML/blob/main/ML_Lab5.ipynb\" target=\"_parent\"><img src=\"https://colab.research.google.com/assets/colab-badge.svg\" alt=\"Open In Colab\"/></a>"
      ]
    },
    {
      "cell_type": "markdown",
      "source": [
        "Pattern Program"
      ],
      "metadata": {
        "id": "IlotiRkUKcQH"
      }
    },
    {
      "cell_type": "code",
      "execution_count": 10,
      "metadata": {
        "colab": {
          "base_uri": "https://localhost:8080/"
        },
        "id": "ZVyeqHclKL8G",
        "outputId": "c62cd7ae-119e-45a1-e5d1-e5b2a2c404f5"
      },
      "outputs": [
        {
          "output_type": "stream",
          "name": "stdout",
          "text": [
            "*\n",
            "**\n",
            "***\n"
          ]
        }
      ],
      "source": [
        "for i in range(0,3):\n",
        "  j=0\n",
        "  while j<i+1 :\n",
        "    print('*',end='')\n",
        "    j += 1\n",
        "  print(end='\\n')"
      ]
    },
    {
      "cell_type": "markdown",
      "source": [
        "Celcius to Fahrenheit"
      ],
      "metadata": {
        "id": "skFWpkQ_Licf"
      }
    },
    {
      "cell_type": "code",
      "source": [
        "temp = input('Enter temperature in Celcius :')\n",
        "temp = int(temp)\n",
        "\n",
        "print(\"Temperature in Fahrenheit :\",(temp*1.8)+32)"
      ],
      "metadata": {
        "colab": {
          "base_uri": "https://localhost:8080/"
        },
        "id": "R0Yg0JMBLem3",
        "outputId": "5279b359-1676-4ce4-ce3a-16a59c58ba25"
      },
      "execution_count": 12,
      "outputs": [
        {
          "output_type": "stream",
          "name": "stdout",
          "text": [
            "Enter temperature in Celcius :-40\n",
            "Temperature in Fahrenheit : -40.0\n"
          ]
        }
      ]
    },
    {
      "cell_type": "markdown",
      "source": [
        "Fahrenheit to Celcius"
      ],
      "metadata": {
        "id": "uYujp-4aMXiv"
      }
    },
    {
      "cell_type": "code",
      "source": [
        "temp = input('Enter temperature in Fahrenheit :')\n",
        "temp = int(temp)\n",
        "\n",
        "print(\"Temperature in Celcius :\",((temp-32)*5)/9)"
      ],
      "metadata": {
        "colab": {
          "base_uri": "https://localhost:8080/"
        },
        "id": "5WNKIDCoMcXX",
        "outputId": "3685d7ef-2769-4d9a-81a3-c8cd0eb76ae1"
      },
      "execution_count": 13,
      "outputs": [
        {
          "output_type": "stream",
          "name": "stdout",
          "text": [
            "Enter temperature in Fahrenheit :-40\n",
            "Temperature in Celcius : -40.0\n"
          ]
        }
      ]
    },
    {
      "cell_type": "markdown",
      "source": [
        "Reverse word"
      ],
      "metadata": {
        "id": "Tfn3jlCSM7Nv"
      }
    },
    {
      "cell_type": "code",
      "source": [
        "word = input('Enter word :')\n",
        "\n",
        "word = word[::-1]\n",
        "print(word)"
      ],
      "metadata": {
        "colab": {
          "base_uri": "https://localhost:8080/"
        },
        "id": "hobOPMbxNAg-",
        "outputId": "525b42a5-dc56-4aeb-f4b9-6a00e76b4815"
      },
      "execution_count": 14,
      "outputs": [
        {
          "output_type": "stream",
          "name": "stdout",
          "text": [
            "Enter word :hello\n",
            "olleh\n"
          ]
        }
      ]
    },
    {
      "cell_type": "markdown",
      "source": [
        "Fibonacci Series"
      ],
      "metadata": {
        "id": "3dRMhD3pNb-_"
      }
    },
    {
      "cell_type": "code",
      "source": [
        "f = [0, 1]  \n",
        "i=2\n",
        "while f[i-1]+f[i-2] <= 30:\n",
        "  f.append(f[i-1] + f[i-2])\n",
        "  i += 1\n",
        "\n",
        "print(f);"
      ],
      "metadata": {
        "colab": {
          "base_uri": "https://localhost:8080/"
        },
        "id": "_dbUQiYoNjmf",
        "outputId": "57c9f653-3e4a-41a1-8ff0-2413aa121317"
      },
      "execution_count": 15,
      "outputs": [
        {
          "output_type": "stream",
          "name": "stdout",
          "text": [
            "[0, 1, 1, 2, 3, 5, 8, 13, 21]\n"
          ]
        }
      ]
    },
    {
      "cell_type": "markdown",
      "source": [
        "Number of Digits and Alphabets"
      ],
      "metadata": {
        "id": "NhsklT58P-Ui"
      }
    },
    {
      "cell_type": "code",
      "source": [
        "s = input('Enter string :')\n",
        "\n",
        "cnt_d=0\n",
        "cnt_a=0\n",
        "\n",
        "for i in s :\n",
        "  if(i.isdigit()):\n",
        "    cnt_d += 1\n",
        "  if(i.isalpha()):\n",
        "    cnt_a += 1\n",
        "\n",
        "print('No. of digits :',cnt_d)\n",
        "print('No. of alphabets :',cnt_a)"
      ],
      "metadata": {
        "colab": {
          "base_uri": "https://localhost:8080/"
        },
        "id": "dicaGiqbQD2H",
        "outputId": "d0b6fbd0-faa4-44c2-c4fb-db146d4e27ff"
      },
      "execution_count": 16,
      "outputs": [
        {
          "output_type": "stream",
          "name": "stdout",
          "text": [
            "Enter string :abhi20034\n",
            "No. of digits : 5\n",
            "No. of alphabets : 4\n"
          ]
        }
      ]
    }
  ]
}