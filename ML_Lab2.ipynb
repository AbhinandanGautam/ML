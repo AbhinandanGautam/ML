{
  "nbformat": 4,
  "nbformat_minor": 0,
  "metadata": {
    "colab": {
      "name": "ML Lab2.ipynb",
      "provenance": [],
      "authorship_tag": "ABX9TyPpkPew7ISjPy3Urq8rocSG",
      "include_colab_link": true
    },
    "kernelspec": {
      "name": "python3",
      "display_name": "Python 3"
    },
    "language_info": {
      "name": "python"
    }
  },
  "cells": [
    {
      "cell_type": "markdown",
      "metadata": {
        "id": "view-in-github",
        "colab_type": "text"
      },
      "source": [
        "<a href=\"https://colab.research.google.com/github/AbhinandanGautam/ML/blob/main/ML_Lab2.ipynb\" target=\"_parent\"><img src=\"https://colab.research.google.com/assets/colab-badge.svg\" alt=\"Open In Colab\"/></a>"
      ]
    },
    {
      "cell_type": "code",
      "source": [
        "# different type of variables\n",
        "\n",
        "x = 5\n",
        "print(x, type(x))\n",
        "x = complex(1,3)\n",
        "print(x, type(x))\n",
        "x = 1.097\n",
        "print(x, type(x))\n",
        "x = \"Abhinandan\"\n",
        "print(x, type(x))\n",
        "x = False\n",
        "print(x, type(x))"
      ],
      "metadata": {
        "colab": {
          "base_uri": "https://localhost:8080/"
        },
        "id": "W3Ftzk-89iRk",
        "outputId": "0e355e96-a0fe-4582-ed63-469897011e66"
      },
      "execution_count": 9,
      "outputs": [
        {
          "output_type": "stream",
          "name": "stdout",
          "text": [
            "5 <class 'int'>\n",
            "(1+3j) <class 'complex'>\n",
            "1.097 <class 'float'>\n",
            "Abhinandan <class 'str'>\n",
            "False <class 'bool'>\n"
          ]
        }
      ]
    },
    {
      "cell_type": "code",
      "source": [
        "# operations on int type variable\n",
        "\n",
        "x = 2\n",
        "y = 3\n",
        "\n",
        "print(x+y) # addition\n",
        "print(x-y) # subtraction\n",
        "print(x*y) # multiplication\n",
        "print(y/x) # division\n",
        "print(y//x) # division but int value\n",
        "print(x**y) # power\n",
        "print(x%y) # modulo"
      ],
      "metadata": {
        "colab": {
          "base_uri": "https://localhost:8080/"
        },
        "id": "tdy3K_yA-r8V",
        "outputId": "7dfdf22b-fab2-42e6-edd9-3894b7c03e27"
      },
      "execution_count": 10,
      "outputs": [
        {
          "output_type": "stream",
          "name": "stdout",
          "text": [
            "5\n",
            "-1\n",
            "6\n",
            "1.5\n",
            "1\n",
            "8\n",
            "2\n"
          ]
        }
      ]
    },
    {
      "cell_type": "code",
      "source": [
        "# operations on float type variable\n",
        "\n",
        "x = 1.25\n",
        "y = 0.5\n",
        "\n",
        "print(x+y) # addition\n",
        "print(x-y) # subtraction\n",
        "print(x*y) # multiplication\n",
        "print(y/x) # division\n",
        "print(y//x) # division but int value\n",
        "print(x**y) # power\n",
        "print(x%y) # modulo"
      ],
      "metadata": {
        "colab": {
          "base_uri": "https://localhost:8080/"
        },
        "id": "17zgeowa_vW3",
        "outputId": "996d3d0d-1707-43a1-942e-499b879371da"
      },
      "execution_count": 11,
      "outputs": [
        {
          "output_type": "stream",
          "name": "stdout",
          "text": [
            "1.75\n",
            "0.75\n",
            "0.625\n",
            "0.4\n",
            "0.0\n",
            "1.118033988749895\n",
            "0.25\n"
          ]
        }
      ]
    },
    {
      "cell_type": "code",
      "source": [
        "# operations on complex type variable\n",
        "\n",
        "x = 1 + 3j\n",
        "y = 2 + 2j\n",
        "\n",
        "print(x+y) # addition\n",
        "print(x-y) # subtraction\n",
        "print(x*y) # multiplication\n",
        "print(y/x) # division\n",
        "print(x**y) # power"
      ],
      "metadata": {
        "colab": {
          "base_uri": "https://localhost:8080/"
        },
        "id": "kcnoc3KsAKDr",
        "outputId": "3532a373-57fe-418f-b884-c595fca6cdd1"
      },
      "execution_count": 14,
      "outputs": [
        {
          "output_type": "stream",
          "name": "stdout",
          "text": [
            "(3+5j)\n",
            "(-1+1j)\n",
            "(-4+8j)\n",
            "(0.7999999999999999-0.4j)\n",
            "(0.0725150705339097-0.8192148636949572j)\n"
          ]
        }
      ]
    },
    {
      "cell_type": "code",
      "source": [
        "# operations on string type variable\n",
        "\n",
        "a = \"abhi\"\n",
        "b = \"nandan\"\n",
        "print(a+b)\n",
        "print(a*3)\n",
        "\n",
        "name = \"Abhinandan\"\n",
        "print(\"Hello\",name)\n",
        "\n",
        "'''\n",
        "indexing\n",
        "'''\n",
        "print(name[0]) # first character\n",
        "print(name[-10]) # first character\n",
        "print(name[9]) # last character \n",
        "print(name[-1]) # last character\n"
      ],
      "metadata": {
        "colab": {
          "base_uri": "https://localhost:8080/"
        },
        "id": "ckxgE4_rA8ZD",
        "outputId": "394c64d2-d7f1-4381-df49-13fcda045d5e"
      },
      "execution_count": 25,
      "outputs": [
        {
          "output_type": "stream",
          "name": "stdout",
          "text": [
            "abhinandan\n",
            "abhiabhiabhi\n",
            "Hello Abhinandan\n",
            "A\n",
            "A\n",
            "n\n",
            "n\n"
          ]
        }
      ]
    }
  ]
}